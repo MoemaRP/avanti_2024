{
  "nbformat": 4,
  "nbformat_minor": 0,
  "metadata": {
    "colab": {
      "provenance": [],
      "authorship_tag": "ABX9TyNJZwhgylVkZ/TTNphISSE5",
      "include_colab_link": true
    },
    "kernelspec": {
      "name": "python3",
      "display_name": "Python 3"
    },
    "language_info": {
      "name": "python"
    }
  },
  "cells": [
    {
      "cell_type": "markdown",
      "metadata": {
        "id": "view-in-github",
        "colab_type": "text"
      },
      "source": [
        "<a href=\"https://colab.research.google.com/github/MoemaRP/avanti_2024/blob/main/Grupo_3_descri%C3%A7%C3%A3o_dataset.ipynb\" target=\"_parent\"><img src=\"https://colab.research.google.com/assets/colab-badge.svg\" alt=\"Open In Colab\"/></a>"
      ]
    },
    {
      "cell_type": "code",
      "execution_count": null,
      "metadata": {
        "id": "lB6CzCzvTwDb"
      },
      "outputs": [],
      "source": []
    },
    {
      "cell_type": "markdown",
      "source": [
        "##**Explicação dataset**\n",
        "\n",
        "O dataset \"Recyclable and Household Waste Classification\" é uma coleção abrangente de imagens destinada à classificação e categorização de resíduos recicláveis e domésticos. Aqui está um resumo das principais características deste conjunto de dados:\n",
        "\n",
        "## Bibliotecas CV\n",
        "\n",
        "**opendatasets:**\n",
        "Serve para baixar datasets de fontes online, como Kaggle, de forma mais fácil dentro do Google Colab. É usada para baixar o dataset \"Recyclable and Household Waste Classification\" do Kaggle com o comando od.download().\n",
        "\n",
        "**imagehash:**\n",
        "É usada para gerar hashes perceptuais de imagens. Esses hashes representam a imagem de forma que imagens visualmente semelhantes tenham hashes parecidos. Isso é usado na detecção de imagens duplicadas ou muito similares. No código, imagehash.phash() gera um hash perceptual para cada imagem, que é usado na coluna img_hash do DataFrame para, posteriormente, identificar imagens duplicadas.\n",
        "\n",
        "\n",
        "**PIL (Pillow):**\n",
        "É usada principalmente para abrir, manipular e salvar imagens em diversos formatos.\n",
        "No código, Image.fromarray() da biblioteca PIL é utilizada para converter a imagem do formato de array NumPy (usado pelo OpenCV) para o formato de imagem PIL. Isso permite que utilizar as funções de hash da biblioteca imagehash na imagem.\n",
        "\n",
        "**cv2 (OpenCV):**\n",
        "É uma biblioteca mais completa para visão computacional, com funções para leitura de imagens, exibição, manipulação e processamento.\n",
        "No código, é usada para carregar as imagens com cv2.imread(), converter o espaço de cores da imagem com cv2.cvtColor() e obter informações da imagem, como largura e altura, com img.shape.\n",
        "Em resumo: OpenCV é usada para as tarefas mais básicas de carregamento e processamento da imagem, enquanto PIL é utilizada para converter a imagem para um formato compatível com a biblioteca imagehash, permitindo o cálculo do hash perceptual da imagem.\n",
        "\n",
        "## Visão Geral\n",
        "\n",
        "- O dataset contém 15.000 imagens de alta qualidade.\n",
        "- As imagens estão distribuídas em 30 categorias distintas de resíduos.\n",
        "\n",
        "## Estrutura e Organização\n",
        "\n",
        "- As imagens estão organizadas em diretórios e subdiretórios[1].\n",
        "- Existem dois subdiretórios principais para cada categoria: \"default\" e \"real_world\"[1].\n",
        "\n",
        "## Características das Imagens\n",
        "\n",
        "- **Dimensões**: Todas as imagens têm dimensões de 256x256 pixels.\n",
        "- **Formato**: As imagens estão em formatos JPG e PNG[1].\n",
        "- **Canais**: As imagens são coloridas, utilizando 3 canais (RGB).\n",
        "\n",
        "## Integridade e Qualidade\n",
        "\n",
        "- O código verifica a integridade das imagens, identificando arquivos corrompidos[1].\n",
        "- Não foram encontradas imagens corrompidas no dataset analisado[1].\n",
        "\n",
        "## Distribuição das Classes\n",
        "\n",
        "- O dataset abrange 30 categorias diferentes de resíduos recicláveis[1].\n",
        "- Há uma distribuição relativamente equilibrada de imagens entre as categorias[1].\n",
        "\n",
        "## Duplicatas\n",
        "\n",
        "- Foi realizada uma verificação de duplicatas usando hashes de imagem[1].\n",
        "- Foram identificadas algumas imagens duplicadas no conjunto de dados[1].\n",
        "\n",
        "## Aplicações Potenciais\n",
        "\n",
        "Este dataset é particularmente útil para:\n",
        "\n",
        "- Desenvolvimento de sistemas de classificação automática de resíduos.\n",
        "- Pesquisas em aprendizado de máquina e visão computacional focadas em reciclagem.\n",
        "- Criação de aplicativos educacionais sobre reciclagem e gestão de resíduos.\n",
        "\n",
        "## Considerações Finais\n",
        "\n",
        "O \"Recyclable and Household Waste Classification\" dataset oferece um recurso valioso para pesquisadores e desenvolvedores interessados em melhorar os sistemas de reciclagem e gestão de resíduos através de tecnologias de aprendizado de máquina e visão computacional.\n",
        "\n"
      ],
      "metadata": {
        "id": "471PfHUcTw_S"
      }
    }
  ]
}